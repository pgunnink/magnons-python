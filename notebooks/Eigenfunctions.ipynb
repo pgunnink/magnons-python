{
 "cells": [
  {
   "cell_type": "code",
   "execution_count": 5,
   "metadata": {},
   "outputs": [],
   "source": [
    "%load_ext autoreload\n",
    "%autoreload 2"
   ]
  },
  {
   "cell_type": "code",
   "execution_count": 1,
   "metadata": {},
   "outputs": [],
   "source": [
    "import numpy as np\n",
    "from magnons.energies import get_dispersion_theta, ev_in_HP_basis, plot_dispersion_ky\n",
    "from magnons.yig import a, S, mu, J\n",
    "from magnons.cgs import E_to_GHz\n",
    "import matplotlib.pyplot as plt"
   ]
  },
  {
   "cell_type": "code",
   "execution_count": 2,
   "metadata": {},
   "outputs": [],
   "source": [
    "kwargs = {\n",
    "    \"eps\": a**-2,\n",
    "    \"a\": a,\n",
    "    \"S\": S,\n",
    "    \"mu\": mu,\n",
    "    \"J\": J,\n",
    "    \"E_to_GHz\": E_to_GHz,\n",
    "    \"h\": mu * 700,\n",
    "    \"Nr\": 4,\n",
    "    \"Ng\": 4,\n",
    "}\n",
    "kwargs[\"N\"] = 100\n"
   ]
  },
  {
   "cell_type": "code",
   "execution_count": 3,
   "metadata": {},
   "outputs": [
    {
     "name": "stderr",
     "output_type": "stream",
     "text": [
      "100%|█████████████████████████████████████████████████████████████████████████████████████████████████████████████████████████████████████████████████████████████████████████████████████████████| 4/4 [00:05<00:00,  1.28s/it]\n"
     ]
    }
   ],
   "source": [
    "E, ev, kvalues = get_dispersion_theta(0, 4, return_eigenfunctions=True, **kwargs)"
   ]
  },
  {
   "cell_type": "code",
   "execution_count": 6,
   "metadata": {},
   "outputs": [
    {
     "name": "stderr",
     "output_type": "stream",
     "text": [
      "C:\\Users\\Gunni002\\Dropbox\\UU\\Magnons\\Python\\magnons\\magnons\\energies.py:56: ComplexWarning: Casting complex values to real discards the imaginary part\n",
      "  res[:, i] = ev[:N, i] + ev[N:, i]\n"
     ]
    },
    {
     "data": {
      "image/png": "[encoded data removed]",
      "text/plain": [
       "<Figure size 432x288 with 1 Axes>"
      ]
     },
     "metadata": {
      "needs_background": "light"
     },
     "output_type": "display_data"
    }
   ],
   "source": [
    "def plot_eigenfunction(k, n, kvalues, E, ev):\n",
    "    diff = np.abs(kvalues - np.array(k))\n",
    "    diff_distance = np.sqrt(np.sum(diff**2, axis=1))\n",
    "    i = np.argmin(diff_distance)\n",
    "    ev = ev[i]\n",
    "    E = E[i]\n",
    "    ev = ev_in_HP_basis(ev)\n",
    "    plt.plot(np.abs(ev[:, n])**2)\n",
    "plot_eigenfunction([10**6, 0], 0, kvalues, E, ev)"
   ]
  },
  {
   "cell_type": "code",
   "execution_count": null,
   "metadata": {},
   "outputs": [],
   "source": [
    "len(E)"
   ]
  },
  {
   "cell_type": "code",
   "execution_count": null,
   "metadata": {},
   "outputs": [],
   "source": [
    "np.argmin(np.sqrt(np.sum(np.abs(kvalues - np.array(k)), axis=1)))\n"
   ]
  },
  {
   "cell_type": "code",
   "execution_count": null,
   "metadata": {},
   "outputs": [],
   "source": [
    "absk = np.sqrt(np.sum(res[2]**2, axis=1))\n",
    "for i in range(6):\n",
    "    plt.semilogx(absk, res[0][:, i], \"-\", color=\"black\")"
   ]
  }
 ],
 "metadata": {
  "kernelspec": {
   "display_name": "Python 3",
   "language": "python",
   "name": "python3"
  },
  "language_info": {
   "codemirror_mode": {
    "name": "ipython",
    "version": 3
   },
   "file_extension": ".py",
   "mimetype": "text/x-python",
   "name": "python",
   "nbconvert_exporter": "python",
   "pygments_lexer": "ipython3",
   "version": "3.7.4"
  }
 },
 "nbformat": 4,
 "nbformat_minor": 2
}
