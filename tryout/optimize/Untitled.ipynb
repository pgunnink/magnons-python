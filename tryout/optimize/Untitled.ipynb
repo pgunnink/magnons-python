{
 "cells": [
  {
   "cell_type": "code",
   "execution_count": 176,
   "metadata": {},
   "outputs": [],
   "source": [
    "import numpy as np\n",
    "import scipy\n",
    "from scipy.special import erfc\n",
    "from magnons.dipolar_sums import f,misra, Dkxx,Dkyy, Dkzz, Dkxy, Dkxz, Dkyz\n",
    "from magnons.amplitudes import AkBkAngle, Jk\n",
    "import matplotlib.pyplot as plt\n",
    "from magnons.yig import a, mu,S,J\n",
    "\n",
    "H = 2400.0\n",
    "h = mu * H\n",
    "eps = a**(-2)\n"
   ]
  },
  {
   "cell_type": "code",
   "execution_count": 14,
   "metadata": {},
   "outputs": [],
   "source": [
    "p = np.random.rand(10,10,9)\n",
    "q = np.random.rand(10,10,9)\n"
   ]
  },
  {
   "cell_type": "code",
   "execution_count": 15,
   "metadata": {},
   "outputs": [
    {
     "name": "stdout",
     "output_type": "stream",
     "text": [
      "94.6 µs ± 24.5 µs per loop (mean ± std. dev. of 7 runs, 10000 loops each)\n"
     ]
    }
   ],
   "source": [
    "%timeit f(p,q)"
   ]
  },
  {
   "cell_type": "code",
   "execution_count": 17,
   "metadata": {},
   "outputs": [
    {
     "name": "stdout",
     "output_type": "stream",
     "text": [
      "82.2 µs ± 25.1 µs per loop (mean ± std. dev. of 7 runs, 10000 loops each)\n"
     ]
    }
   ],
   "source": [
    "%timeit misra(q)"
   ]
  },
  {
   "cell_type": "code",
   "execution_count": 37,
   "metadata": {},
   "outputs": [],
   "source": [
    "K = Dkxx(eps, a, mu)"
   ]
  },
  {
   "cell_type": "code",
   "execution_count": 22,
   "metadata": {},
   "outputs": [
    {
     "name": "stdout",
     "output_type": "stream",
     "text": [
      "1.34 ms ± 349 µs per loop (mean ± std. dev. of 7 runs, 1000 loops each)\n"
     ]
    }
   ],
   "source": [
    "x = np.arange(-100, 0, 1) * a\n",
    "%timeit K.real_sum(x, 10**4, 10**4)"
   ]
  },
  {
   "cell_type": "code",
   "execution_count": 23,
   "metadata": {},
   "outputs": [
    {
     "name": "stdout",
     "output_type": "stream",
     "text": [
      "2.04 ms ± 375 µs per loop (mean ± std. dev. of 7 runs, 1000 loops each)\n"
     ]
    }
   ],
   "source": [
    "%timeit K.recip_sum(x, 10**4, 10**4)"
   ]
  },
  {
   "cell_type": "code",
   "execution_count": 26,
   "metadata": {},
   "outputs": [
    {
     "name": "stdout",
     "output_type": "stream",
     "text": [
      "155 ms ± 23 ms per loop (mean ± std. dev. of 7 runs, 10 loops each)\n"
     ]
    }
   ],
   "source": [
    "%timeit [K.real_sum_explicit(y, 10**4, 10**4) for y in x]"
   ]
  },
  {
   "cell_type": "code",
   "execution_count": 34,
   "metadata": {},
   "outputs": [
    {
     "name": "stdout",
     "output_type": "stream",
     "text": [
      "21.9 ms ± 7.5 ms per loop (mean ± std. dev. of 7 runs, 10 loops each)\n"
     ]
    }
   ],
   "source": [
    "%timeit K.table(10**2, 10**2, 400)"
   ]
  },
  {
   "cell_type": "code",
   "execution_count": 33,
   "metadata": {},
   "outputs": [
    {
     "name": "stdout",
     "output_type": "stream",
     "text": [
      "5.92 s ± 1.47 s per loop (mean ± std. dev. of 7 runs, 1 loop each)\n"
     ]
    }
   ],
   "source": [
    "%timeit AkBkAngle(10**2, 10**2, np.radians(18), np.radians(30),N=400, J=J, S=S, h=h, eps=eps,a=a, mu=mu)"
   ]
  },
  {
   "cell_type": "code",
   "execution_count": 161,
   "metadata": {},
   "outputs": [],
   "source": [
    "def AkBk(ky,\n",
    "         kz,\n",
    "         N=None,\n",
    "         J=None,\n",
    "         S=None,\n",
    "         h=None,\n",
    "         eps=None,\n",
    "         a=None,\n",
    "         mu=None,\n",
    "         Nr=4,\n",
    "         Ng=4):\n",
    "    xx = Dkxx(eps=eps, a=a, mu=mu, Nr=Nr, Ng=Ng)\n",
    "    yy = Dkyy(eps=eps, a=a, mu=mu, Nr=Nr, Ng=Ng)\n",
    "    zz = Dkzz(eps=eps, a=a, mu=mu, Nr=Nr, Ng=Ng)\n",
    "    xy = Dkxy(eps=eps, a=a, mu=mu, Nr=Nr, Ng=Ng)\n",
    "\n",
    "    xx_table = xx.table(ky, kz, N)\n",
    "    yy_table = yy.table(ky, kz, N)\n",
    "    zz_table0 = zz.table(10**-6, 10**-6, N)\n",
    "    xy_table = xy.table(ky, kz, N)\n",
    "\n",
    "    Atemp = np.zeros((N, N), dtype=np.complex)\n",
    "    Btemp = np.zeros((N, N), dtype=np.complex)\n",
    "\n",
    "    for i in range(N):\n",
    "        for j in range(N):\n",
    "            if i == j:\n",
    "                Atemp[i, j] = h + S * np.sum(zz_table0[i:i + N])\n",
    "                \n",
    "            Atemp[i, j] += S * Jk(i, j, ky, kz, N=N, a=a, J=J)\n",
    "            \n",
    "#             Atemp[i, j] -= S / 2 * (xx_table[i - j + N - 1]\n",
    "#                                     + yy_table[i - j + N - 1])\n",
    "\n",
    "#             Btemp[i, j] = -0.5 * S * (xx_table[i - j + N - 1]\n",
    "#                                       - 2j * xy_table[i - j + N - 1]\n",
    "#                                       - yy_table[i - j + N - 1])\n",
    "    return Atemp, Btemp"
   ]
  },
  {
   "cell_type": "code",
   "execution_count": 171,
   "metadata": {},
   "outputs": [
    {
     "name": "stdout",
     "output_type": "stream",
     "text": [
      "6.258059264605753e-15\n",
      "6.258059264605754e-15\n"
     ]
    }
   ],
   "source": [
    "print(S * Jk(0, 0, 10**2, 10**2, N=N, a=a, J=J))\n",
    "print(S * J * (6 - 2 * np.cos(10**2 * a) - 2 * np.cos(10**2 * a)) - S * J)\n"
   ]
  },
  {
   "cell_type": "code",
   "execution_count": 177,
   "metadata": {},
   "outputs": [],
   "source": [
    "def AkBkVector(ky,\n",
    "         kz,\n",
    "         N=None,\n",
    "         J=None,\n",
    "         S=None,\n",
    "         h=None,\n",
    "         eps=None,\n",
    "         a=None,\n",
    "         mu=None,\n",
    "         Nr=4,\n",
    "         Ng=4):\n",
    "    xx = Dkxx(eps=eps, a=a, mu=mu, Nr=Nr, Ng=Ng)\n",
    "    yy = Dkyy(eps=eps, a=a, mu=mu, Nr=Nr, Ng=Ng)\n",
    "    zz = Dkzz(eps=eps, a=a, mu=mu, Nr=Nr, Ng=Ng)\n",
    "    xy = Dkxy(eps=eps, a=a, mu=mu, Nr=Nr, Ng=Ng)\n",
    "\n",
    "    xx_table = xx.table(ky, kz, N)\n",
    "    yy_table = yy.table(ky, kz, N)\n",
    "    zz_table0 = zz.table(10**-6, 10**-6, N)\n",
    "    xy_table = xy.table(ky, kz, N)\n",
    "    \n",
    "    Atemp = np.zeros((N, N), dtype=np.complex)\n",
    "    Btemp = np.zeros((N, N), dtype=np.complex)\n",
    "    Atemp += np.diag([h  +  S * np.sum(zz_table0[i:i + N]) for i in range(N)])\n",
    "    Atemp += np.diag(np.ones(N) * S * J * (6 - 2 * np.cos(ky * a) - 2 * np.cos(kz * a)))\n",
    "    Atemp[0,0] -= S * J\n",
    "    Atemp[N-1,N-1] -= S * J\n",
    "    Atemp += np.diag(np.ones(N-1), -1) * -J * S\n",
    "    Atemp += np.diag(np.ones(N-1), 1) * -J * S\n",
    "    for i in range(N):\n",
    "        Atemp[i, :] -= .5 * S * np.flip( xx_table[i : i + N] + yy_table[i : i + N] )\n",
    "        Btemp[i, :] -= .5 * S * np.flip( xx_table[i : i + N] - 2j * xy_table[i : i + N] - yy_table[i : i + N])\n",
    "    return Atemp, Btemp\n",
    "    "
   ]
  },
  {
   "cell_type": "code",
   "execution_count": 178,
   "metadata": {},
   "outputs": [],
   "source": [
    "def AkBkAngle(ky,\n",
    "              kz,\n",
    "              phi,\n",
    "              alpha,\n",
    "              N=None,\n",
    "              J=None,\n",
    "              S=None,\n",
    "              h=None,\n",
    "              eps=None,\n",
    "              a=None,\n",
    "              mu=None,\n",
    "              Nr=4,\n",
    "              Ng=4):\n",
    "    xx = Dkxx(eps=eps, a=a, mu=mu, Nr=Nr, Ng=Ng)\n",
    "    yy = Dkyy(eps=eps, a=a, mu=mu, Nr=Nr, Ng=Ng)\n",
    "    zz = Dkzz(eps=eps, a=a, mu=mu, Nr=Nr, Ng=Ng)\n",
    "    xy = Dkxy(eps=eps, a=a, mu=mu, Nr=Nr, Ng=Ng)\n",
    "    xz = Dkxz(eps=eps, a=a, mu=mu, Nr=Nr, Ng=Ng)\n",
    "    yz = Dkyz(eps=eps, a=a, mu=mu, Nr=Nr, Ng=Ng)\n",
    "\n",
    "    zz_table0 = zz.table(10**-6, 10**-6, N)\n",
    "    xx_table0 = xx.table(10**-6, 10**-6, N)\n",
    "    xz_table0 = xz.table(10**-6, 10**-6, N)\n",
    "\n",
    "    xx_table = xx.table(ky, kz, N)\n",
    "    yy_table = yy.table(ky, kz, N)\n",
    "    xy_table = xy.table(ky, kz, N)\n",
    "    zz_table = zz.table(ky, kz, N)\n",
    "    xz_table = xz.table(ky, kz, N)\n",
    "    yz_table = yz.table(ky, kz, N)\n",
    "\n",
    "    A = np.zeros((N, N), dtype=np.complex)\n",
    "    B = np.zeros((N, N), dtype=np.complex)\n",
    "\n",
    "    for i in range(N):\n",
    "        for j in range(N):\n",
    "            if i == j:\n",
    "                A[i, j] = h * np.cos(phi - alpha) + S * np.sum(\n",
    "                    zz_table0[i:i + N] * np.cos(phi)**2\n",
    "                    + xx_table0[i:i + N] * np.sin(phi)**2\n",
    "                    + xz_table0[i:i + N] * np.sin(phi) * np.cos(phi))\n",
    "            A[i, j] += S * Jk(i, j, ky, kz, N=N, a=a, J=J)\n",
    "            A[i, j] -= (\n",
    "                S / 2 * (xx_table[i - j + N - 1] * np.cos(phi)**2\n",
    "                         + yy_table[i - j + N - 1]\n",
    "                         + zz_table[i - j + N - 1] * np.sin(phi)**2)\n",
    "                - 2 * xz_table[i - j + N - 1] * np.sin(phi) * np.cos(phi))\n",
    "\n",
    "            B[i, j] = -0.5 * S * (\n",
    "                xx_table[i - j + N - 1] * np.cos(phi)**2\n",
    "                - yy_table[i - j + N - 1]\n",
    "                + zz_table[i - j + N - 1] * np.sin(phi)**2\n",
    "                - 2 * xz_table[i - j + N - 1] * np.sin(phi) * np.cos(phi)\n",
    "                + 2j * xy_table[i - j + N - 1] * np.cos(phi)\n",
    "                - 2j * yz_table[i - j + N - 1] * np.sin(phi))\n",
    "    return A, B\n",
    "def AkBkAngleVector(ky,\n",
    "              kz,\n",
    "              phi,\n",
    "              alpha,\n",
    "              N=None,\n",
    "              J=None,\n",
    "              S=None,\n",
    "              h=None,\n",
    "              eps=None,\n",
    "              a=None,\n",
    "              mu=None,\n",
    "              Nr=4,\n",
    "              Ng=4):\n",
    "    xx = Dkxx(eps=eps, a=a, mu=mu, Nr=Nr, Ng=Ng)\n",
    "    yy = Dkyy(eps=eps, a=a, mu=mu, Nr=Nr, Ng=Ng)\n",
    "    zz = Dkzz(eps=eps, a=a, mu=mu, Nr=Nr, Ng=Ng)\n",
    "    xy = Dkxy(eps=eps, a=a, mu=mu, Nr=Nr, Ng=Ng)\n",
    "    xz = Dkxz(eps=eps, a=a, mu=mu, Nr=Nr, Ng=Ng)\n",
    "    yz = Dkyz(eps=eps, a=a, mu=mu, Nr=Nr, Ng=Ng)\n",
    "\n",
    "    zz_table0 = zz.table(10**-6, 10**-6, N)\n",
    "    xx_table0 = xx.table(10**-6, 10**-6, N)\n",
    "    xz_table0 = xz.table(10**-6, 10**-6, N)\n",
    "\n",
    "    xx_table = xx.table(ky, kz, N)\n",
    "    yy_table = yy.table(ky, kz, N)\n",
    "    xy_table = xy.table(ky, kz, N)\n",
    "    zz_table = zz.table(ky, kz, N)\n",
    "    xz_table = xz.table(ky, kz, N)\n",
    "    yz_table = yz.table(ky, kz, N)\n",
    "\n",
    "    A = np.zeros((N, N), dtype=np.complex)\n",
    "    B = np.zeros((N, N), dtype=np.complex)\n",
    "    Atemp = np.zeros((N, N), dtype=np.complex)\n",
    "    Btemp = np.zeros((N, N), dtype=np.complex)\n",
    "    \n",
    "    Atemp += np.diag([h * np.cos(phi - alpha) + S * np.sum(\n",
    "                    zz_table0[i:i + N] * np.cos(phi)**2\n",
    "                    + xx_table0[i:i + N] * np.sin(phi)**2\n",
    "                    + xz_table0[i:i + N] * np.sin(phi) * np.cos(phi)) for i in range(N)])\n",
    "    \n",
    "    \n",
    "    Atemp += np.diag(np.ones(N) * S * J * (6 - 2 * np.cos(ky * a) - 2 * np.cos(kz * a)))\n",
    "    Atemp[0,0] -= S * J\n",
    "    Atemp[N-1,N-1] -= S * J\n",
    "    Atemp += np.diag(np.ones(N-1), -1) * -J * S\n",
    "    Atemp += np.diag(np.ones(N-1), 1) * -J * S\n",
    "    \n",
    "    for i in range(N):\n",
    "        Atemp[i, :] -= np.flip(\n",
    "                S / 2 * (xx_table[i : i + N] * np.cos(phi)**2\n",
    "                         + yy_table[i : i + N]\n",
    "                         + zz_table[i : i + N] * np.sin(phi)**2)\n",
    "                - 2 * xz_table[i : i + N] * np.sin(phi) * np.cos(phi))\n",
    "        Btemp[i, :] -= 0.5 * S * np.flip(\n",
    "                xx_table[i : i + N] * np.cos(phi)**2\n",
    "                - yy_table[i : i + N]\n",
    "                + zz_table[i : i + N] * np.sin(phi)**2\n",
    "                - 2 * xz_table[i : i + N] * np.sin(phi) * np.cos(phi)\n",
    "                + 2j * xy_table[i : i + N] * np.cos(phi)\n",
    "                - 2j * yz_table[i : i + N] * np.sin(phi))\n",
    "    return Atemp, Btemp"
   ]
  },
  {
   "cell_type": "code",
   "execution_count": 185,
   "metadata": {},
   "outputs": [],
   "source": [
    "N = 20\n",
    "A, B = AkBkAngle(10**2, 10**2, np.radians(18), np.radians(30), N=N, J=J, S=S, h=h, eps=eps, a=a, mu=mu)\n",
    "Anew, Bnew = AkBkAngleVector(10**2, 10**2, np.radians(18), np.radians(30), N=N, J=J, S=S, h=h, eps=eps, a=a, mu=mu)"
   ]
  },
  {
   "cell_type": "code",
   "execution_count": 186,
   "metadata": {},
   "outputs": [
    {
     "data": {
      "text/plain": [
       "<matplotlib.image.AxesImage at 0x246d2ad4c48>"
      ]
     },
     "execution_count": 186,
     "metadata": {},
     "output_type": "execute_result"
    },
    {
     "data": {
      "image/png": "[encoded data removed]",
      "text/plain": [
       "<Figure size 432x288 with 1 Axes>"
      ]
     },
     "metadata": {
      "needs_background": "light"
     },
     "output_type": "display_data"
    }
   ],
   "source": [
    "plt.imshow(np.real(Anew - A))"
   ]
  },
  {
   "cell_type": "code",
   "execution_count": 182,
   "metadata": {},
   "outputs": [
    {
     "name": "stdout",
     "output_type": "stream",
     "text": [
      "(7.888609052210118e-31+0j)\n"
     ]
    }
   ],
   "source": [
    "print((Anew-A)[0,0])"
   ]
  },
  {
   "cell_type": "code",
   "execution_count": 184,
   "metadata": {
    "scrolled": true
   },
   "outputs": [
    {
     "name": "stdout",
     "output_type": "stream",
     "text": [
      "7.5 s ± 52.3 ms per loop (mean ± std. dev. of 7 runs, 1 loop each)\n",
      "389 ms ± 11.9 ms per loop (mean ± std. dev. of 7 runs, 1 loop each)\n"
     ]
    }
   ],
   "source": [
    "N = 400\n",
    "%timeit AkBkAngle(10**2, 10**2, np.radians(18), np.radians(30), N=N, J=J, S=S, h=h, eps=eps, a=a, mu=mu)\n",
    "%timeit AkBkAngleVector(10**2, 10**2, np.radians(18), np.radians(30), N=N, J=J, S=S, h=h, eps=eps, a=a, mu=mu)"
   ]
  },
  {
   "cell_type": "code",
   "execution_count": 40,
   "metadata": {},
   "outputs": [
    {
     "name": "stdout",
     "output_type": "stream",
     "text": [
      "[[ 0.          0.          0.          0.        ]\n",
      " [-0.48131012  0.          0.          0.        ]\n",
      " [-0.33037356 -0.01782293  0.          0.        ]\n",
      " [-0.13451844  0.57313247  0.34235917  0.        ]]\n"
     ]
    }
   ],
   "source": [
    "N=4\n",
    "mat = np.random.rand(N,N)\n",
    "mat2 = np.triu(mat) + np.triu(mat, 1).T.conj()\n",
    "print(mat-mat2)"
   ]
  },
  {
   "cell_type": "code",
   "execution_count": 41,
   "metadata": {},
   "outputs": [
    {
     "data": {
      "text/plain": [
       "array([[0.        , 0.        , 0.        , 0.        ],\n",
       "       [0.78917233, 0.        , 0.        , 0.        ],\n",
       "       [0.72285356, 0.1032585 , 0.        , 0.        ],\n",
       "       [0.92330392, 0.38612869, 0.32289859, 0.        ]])"
      ]
     },
     "execution_count": 41,
     "metadata": {},
     "output_type": "execute_result"
    }
   ],
   "source": [
    "np.triu(mat, 1).T.conj()"
   ]
  },
  {
   "cell_type": "code",
   "execution_count": 42,
   "metadata": {},
   "outputs": [
    {
     "data": {
      "text/plain": [
       "array([[0.82733421, 0.78917233, 0.72285356, 0.92330392],\n",
       "       [0.30786221, 0.29852557, 0.1032585 , 0.38612869],\n",
       "       [0.39248   , 0.08543557, 0.47113617, 0.32289859],\n",
       "       [0.78878547, 0.95926116, 0.66525776, 0.32979   ]])"
      ]
     },
     "execution_count": 42,
     "metadata": {},
     "output_type": "execute_result"
    }
   ],
   "source": [
    "mat"
   ]
  },
  {
   "cell_type": "code",
   "execution_count": 56,
   "metadata": {},
   "outputs": [
    {
     "data": {
      "text/plain": [
       "(4, 4)"
      ]
     },
     "execution_count": 56,
     "metadata": {},
     "output_type": "execute_result"
    }
   ],
   "source": [
    "np.triu(mat, 1).T.conj().shape"
   ]
  },
  {
   "cell_type": "code",
   "execution_count": 66,
   "metadata": {},
   "outputs": [
    {
     "name": "stdout",
     "output_type": "stream",
     "text": [
      "13.5 µs ± 3.27 µs per loop (mean ± std. dev. of 7 runs, 100000 loops each)\n",
      "12.3 µs ± 651 ns per loop (mean ± std. dev. of 7 runs, 100000 loops each)\n",
      "1.09 ms ± 12.9 µs per loop (mean ± std. dev. of 7 runs, 1000 loops each)\n"
     ]
    }
   ],
   "source": [
    "a = np.random.rand(400, 400)\n",
    "%timeit a[:,10] += np.random.rand(400)\n",
    "a = np.random.rand(400, 400)\n",
    "%timeit a[10,:] += np.random.rand(400)\n",
    "a = np.random.rand(400, 400)\n",
    "%timeit a[:] += np.diag(np.random.rand(400))"
   ]
  },
  {
   "cell_type": "code",
   "execution_count": null,
   "metadata": {},
   "outputs": [],
   "source": []
  }
 ],
 "metadata": {
  "kernelspec": {
   "display_name": "Python 3",
   "language": "python",
   "name": "python3"
  },
  "language_info": {
   "codemirror_mode": {
    "name": "ipython",
    "version": 3
   },
   "file_extension": ".py",
   "mimetype": "text/x-python",
   "name": "python",
   "nbconvert_exporter": "python",
   "pygments_lexer": "ipython3",
   "version": "3.7.4"
  }
 },
 "nbformat": 4,
 "nbformat_minor": 2
}
